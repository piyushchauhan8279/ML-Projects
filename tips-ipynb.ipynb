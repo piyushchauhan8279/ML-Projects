{
 "cells": [
  {
   "cell_type": "markdown",
   "id": "da627d01",
   "metadata": {
    "papermill": {
     "duration": 0.007285,
     "end_time": "2024-11-22T07:23:47.397878",
     "exception": false,
     "start_time": "2024-11-22T07:23:47.390593",
     "status": "completed"
    },
    "tags": []
   },
   "source": [
    "# Objective: Explore and preprocess the Tips dataset by visualizing, encoding categorical variables, and preparing data for analysis and modeling."
   ]
  },
  {
   "cell_type": "markdown",
   "id": "9f195abb",
   "metadata": {
    "papermill": {
     "duration": 0.00595,
     "end_time": "2024-11-22T07:23:47.410780",
     "exception": false,
     "start_time": "2024-11-22T07:23:47.404830",
     "status": "completed"
    },
    "tags": []
   },
   "source": [
    "# Q1: Load the data from the Tips.csv file and perform initial exploratory data analysis (EDA)."
   ]
  },
  {
   "cell_type": "markdown",
   "id": "c23683d7",
   "metadata": {
    "papermill": {
     "duration": 0.006566,
     "end_time": "2024-11-22T07:23:47.423307",
     "exception": false,
     "start_time": "2024-11-22T07:23:47.416741",
     "status": "completed"
    },
    "tags": []
   },
   "source": [
    "**Import the necessary libraries: pandas, numpy, matplotlib, and seaborn.**"
   ]
  },
  {
   "cell_type": "code",
   "execution_count": 1,
   "id": "0460446f",
   "metadata": {
    "execution": {
     "iopub.execute_input": "2024-11-22T07:23:47.436389Z",
     "iopub.status.busy": "2024-11-22T07:23:47.435968Z",
     "iopub.status.idle": "2024-11-22T07:23:50.221007Z",
     "shell.execute_reply": "2024-11-22T07:23:50.219487Z"
    },
    "papermill": {
     "duration": 2.794881,
     "end_time": "2024-11-22T07:23:50.223971",
     "exception": false,
     "start_time": "2024-11-22T07:23:47.429090",
     "status": "completed"
    },
    "tags": []
   },
   "outputs": [],
   "source": [
    "# Import necessary libraries\n",
    "import pandas as pd\n",
    "import numpy as np\n",
    "import matplotlib.pyplot as plt\n",
    "import seaborn as sns"
   ]
  },
  {
   "cell_type": "code",
   "execution_count": 2,
   "id": "468e1a2a",
   "metadata": {
    "execution": {
     "iopub.execute_input": "2024-11-22T07:23:50.238267Z",
     "iopub.status.busy": "2024-11-22T07:23:50.237574Z",
     "iopub.status.idle": "2024-11-22T07:23:50.260440Z",
     "shell.execute_reply": "2024-11-22T07:23:50.259439Z"
    },
    "papermill": {
     "duration": 0.032418,
     "end_time": "2024-11-22T07:23:50.263105",
     "exception": false,
     "start_time": "2024-11-22T07:23:50.230687",
     "status": "completed"
    },
    "tags": []
   },
   "outputs": [],
   "source": [
    "# Load the dataset\n",
    "df = pd.read_csv('/kaggle/input/tipsdataset/tips.csv')"
   ]
  },
  {
   "cell_type": "code",
   "execution_count": 3,
   "id": "e1610a71",
   "metadata": {
    "execution": {
     "iopub.execute_input": "2024-11-22T07:23:50.275977Z",
     "iopub.status.busy": "2024-11-22T07:23:50.275611Z",
     "iopub.status.idle": "2024-11-22T07:23:50.293716Z",
     "shell.execute_reply": "2024-11-22T07:23:50.292419Z"
    },
    "papermill": {
     "duration": 0.027395,
     "end_time": "2024-11-22T07:23:50.296291",
     "exception": false,
     "start_time": "2024-11-22T07:23:50.268896",
     "status": "completed"
    },
    "tags": []
   },
   "outputs": [
    {
     "name": "stdout",
     "output_type": "stream",
     "text": [
      "   total_bill   tip     sex smoker  day    time  size  price_per_person  \\\n",
      "0       16.99  1.01  Female     No  Sun  Dinner     2              8.49   \n",
      "1       10.34  1.66    Male     No  Sun  Dinner     3              3.45   \n",
      "2       21.01  3.50    Male     No  Sun  Dinner     3              7.00   \n",
      "3       23.68  3.31    Male     No  Sun  Dinner     2             11.84   \n",
      "4       24.59  3.61  Female     No  Sun  Dinner     4              6.15   \n",
      "\n",
      "           Payer Name         CC Number Payment ID  \n",
      "0  Christy Cunningham  3560325168603410    Sun2959  \n",
      "1      Douglas Tucker  4478071379779230    Sun4608  \n",
      "2      Travis Walters  6011812112971322    Sun4458  \n",
      "3    Nathaniel Harris  4676137647685994    Sun5260  \n",
      "4        Tonya Carter  4832732618637221    Sun2251  \n"
     ]
    }
   ],
   "source": [
    "# Display the first few rows of the dataframe\n",
    "print(df.head())"
   ]
  },
  {
   "cell_type": "code",
   "execution_count": 4,
   "id": "13183a7e",
   "metadata": {
    "execution": {
     "iopub.execute_input": "2024-11-22T07:23:50.309740Z",
     "iopub.status.busy": "2024-11-22T07:23:50.309332Z",
     "iopub.status.idle": "2024-11-22T07:23:50.319410Z",
     "shell.execute_reply": "2024-11-22T07:23:50.318376Z"
    },
    "papermill": {
     "duration": 0.019766,
     "end_time": "2024-11-22T07:23:50.322001",
     "exception": false,
     "start_time": "2024-11-22T07:23:50.302235",
     "status": "completed"
    },
    "tags": []
   },
   "outputs": [
    {
     "name": "stdout",
     "output_type": "stream",
     "text": [
      "total_bill          0\n",
      "tip                 0\n",
      "sex                 0\n",
      "smoker              0\n",
      "day                 0\n",
      "time                0\n",
      "size                0\n",
      "price_per_person    0\n",
      "Payer Name          0\n",
      "CC Number           0\n",
      "Payment ID          0\n",
      "dtype: int64\n"
     ]
    }
   ],
   "source": [
    "# Check for any missing values in the dataset\n",
    "print(df.isnull().sum())\n"
   ]
  },
  {
   "cell_type": "code",
   "execution_count": 5,
   "id": "91336dcd",
   "metadata": {
    "execution": {
     "iopub.execute_input": "2024-11-22T07:23:50.336037Z",
     "iopub.status.busy": "2024-11-22T07:23:50.335646Z",
     "iopub.status.idle": "2024-11-22T07:23:50.385842Z",
     "shell.execute_reply": "2024-11-22T07:23:50.384495Z"
    },
    "papermill": {
     "duration": 0.059987,
     "end_time": "2024-11-22T07:23:50.388492",
     "exception": false,
     "start_time": "2024-11-22T07:23:50.328505",
     "status": "completed"
    },
    "tags": []
   },
   "outputs": [
    {
     "name": "stdout",
     "output_type": "stream",
     "text": [
      "        total_bill         tip   sex smoker  day    time        size  \\\n",
      "count   244.000000  244.000000   244    244  244     244  244.000000   \n",
      "unique         NaN         NaN     2      2    4       2         NaN   \n",
      "top            NaN         NaN  Male     No  Sat  Dinner         NaN   \n",
      "freq           NaN         NaN   157    151   87     176         NaN   \n",
      "mean     19.785943    2.998279   NaN    NaN  NaN     NaN    2.569672   \n",
      "std       8.902412    1.383638   NaN    NaN  NaN     NaN    0.951100   \n",
      "min       3.070000    1.000000   NaN    NaN  NaN     NaN    1.000000   \n",
      "25%      13.347500    2.000000   NaN    NaN  NaN     NaN    2.000000   \n",
      "50%      17.795000    2.900000   NaN    NaN  NaN     NaN    2.000000   \n",
      "75%      24.127500    3.562500   NaN    NaN  NaN     NaN    3.000000   \n",
      "max      50.810000   10.000000   NaN    NaN  NaN     NaN    6.000000   \n",
      "\n",
      "        price_per_person          Payer Name     CC Number Payment ID  \n",
      "count         244.000000                 244  2.440000e+02        244  \n",
      "unique               NaN                 244           NaN        243  \n",
      "top                  NaN  Christy Cunningham           NaN   Thur8084  \n",
      "freq                 NaN                   1           NaN          2  \n",
      "mean            7.888197                 NaN  2.563496e+15        NaN  \n",
      "std             2.914234                 NaN  2.369340e+15        NaN  \n",
      "min             2.880000                 NaN  6.040679e+10        NaN  \n",
      "25%             5.800000                 NaN  3.040731e+13        NaN  \n",
      "50%             7.255000                 NaN  3.525318e+15        NaN  \n",
      "75%             9.390000                 NaN  4.553675e+15        NaN  \n",
      "max            20.270000                 NaN  6.596454e+15        NaN  \n"
     ]
    }
   ],
   "source": [
    "# Display summary statistics of the dataset\n",
    "print(df.describe(include='all'))"
   ]
  },
  {
   "cell_type": "markdown",
   "id": "9686f986",
   "metadata": {
    "papermill": {
     "duration": 0.006114,
     "end_time": "2024-11-22T07:23:50.401471",
     "exception": false,
     "start_time": "2024-11-22T07:23:50.395357",
     "status": "completed"
    },
    "tags": []
   },
   "source": [
    "# Q2: Visualize the distribution of categorical variables."
   ]
  },
  {
   "cell_type": "markdown",
   "id": "9a4d3b92",
   "metadata": {
    "papermill": {
     "duration": 0.006547,
     "end_time": "2024-11-22T07:23:50.414322",
     "exception": false,
     "start_time": "2024-11-22T07:23:50.407775",
     "status": "completed"
    },
    "tags": []
   },
   "source": [
    "**Identify the categorical columns in the dataset**"
   ]
  },
  {
   "cell_type": "code",
   "execution_count": 6,
   "id": "9bf3acc7",
   "metadata": {
    "execution": {
     "iopub.execute_input": "2024-11-22T07:23:50.428528Z",
     "iopub.status.busy": "2024-11-22T07:23:50.428159Z",
     "iopub.status.idle": "2024-11-22T07:23:50.435781Z",
     "shell.execute_reply": "2024-11-22T07:23:50.433988Z"
    },
    "papermill": {
     "duration": 0.018376,
     "end_time": "2024-11-22T07:23:50.438769",
     "exception": false,
     "start_time": "2024-11-22T07:23:50.420393",
     "status": "completed"
    },
    "tags": []
   },
   "outputs": [
    {
     "name": "stdout",
     "output_type": "stream",
     "text": [
      "Categorical Columns: Index(['sex', 'smoker', 'day', 'time', 'Payer Name', 'Payment ID'], dtype='object')\n"
     ]
    }
   ],
   "source": [
    "categorical_columns = df.select_dtypes(include=['object']).columns\n",
    "print(\"Categorical Columns:\", categorical_columns)"
   ]
  },
  {
   "cell_type": "markdown",
   "id": "f73d1d3c",
   "metadata": {
    "papermill": {
     "duration": 0.005636,
     "end_time": "2024-11-22T07:23:50.451883",
     "exception": false,
     "start_time": "2024-11-22T07:23:50.446247",
     "status": "completed"
    },
    "tags": []
   },
   "source": [
    "**Create bar plots for each of the categorical variables in the dataset.**"
   ]
  },
  {
   "cell_type": "code",
   "execution_count": 7,
   "id": "585c6ae1",
   "metadata": {
    "execution": {
     "iopub.execute_input": "2024-11-22T07:23:50.465442Z",
     "iopub.status.busy": "2024-11-22T07:23:50.465017Z",
     "iopub.status.idle": "2024-11-22T07:23:55.881418Z",
     "shell.execute_reply": "2024-11-22T07:23:55.880385Z"
    },
    "papermill": {
     "duration": 5.427167,
     "end_time": "2024-11-22T07:23:55.884885",
     "exception": false,
     "start_time": "2024-11-22T07:23:50.457718",
     "status": "completed"
    },
    "tags": []
   },
   "outputs": [
    {
     "data": {
      "image/png": "[encoded data removed]",
      "text/plain": [
       "<Figure size 1500x500 with 6 Axes>"
      ]
     },
     "metadata": {},
     "output_type": "display_data"
    }
   ],
   "source": [
    "plt.figure(figsize=(15, 5))\n",
    "\n",
    "for i, col in enumerate(categorical_columns):\n",
    "    plt.subplot(1, len(categorical_columns), i + 1)\n",
    "    sns.countplot(x=df[col])\n",
    "    plt.title(f'Distribution of {col}')\n",
    "    plt.xticks(rotation=45)\n",
    "\n",
    "plt.tight_layout()\n",
    "plt.show()"
   ]
  },
  {
   "cell_type": "markdown",
   "id": "0d685aa4",
   "metadata": {
    "papermill": {
     "duration": 0.007001,
     "end_time": "2024-11-22T07:23:55.899189",
     "exception": false,
     "start_time": "2024-11-22T07:23:55.892188",
     "status": "completed"
    },
    "tags": []
   },
   "source": [
    "# Q3: Convert categorical variables to numeric using Label Encoding."
   ]
  },
  {
   "cell_type": "markdown",
   "id": "9dc00ac4",
   "metadata": {
    "papermill": {
     "duration": 0.006831,
     "end_time": "2024-11-22T07:23:55.913242",
     "exception": false,
     "start_time": "2024-11-22T07:23:55.906411",
     "status": "completed"
    },
    "tags": []
   },
   "source": [
    "**Import the LabelEncoder from sklearn.preprocessing.**"
   ]
  },
  {
   "cell_type": "code",
   "execution_count": 8,
   "id": "4d29b60c",
   "metadata": {
    "execution": {
     "iopub.execute_input": "2024-11-22T07:23:55.929145Z",
     "iopub.status.busy": "2024-11-22T07:23:55.928782Z",
     "iopub.status.idle": "2024-11-22T07:23:56.265638Z",
     "shell.execute_reply": "2024-11-22T07:23:56.264424Z"
    },
    "papermill": {
     "duration": 0.348483,
     "end_time": "2024-11-22T07:23:56.268903",
     "exception": false,
     "start_time": "2024-11-22T07:23:55.920420",
     "status": "completed"
    },
    "tags": []
   },
   "outputs": [],
   "source": [
    "from sklearn.preprocessing import LabelEncoder"
   ]
  },
  {
   "cell_type": "markdown",
   "id": "cb554b5e",
   "metadata": {
    "papermill": {
     "duration": 0.007316,
     "end_time": "2024-11-22T07:23:56.283892",
     "exception": false,
     "start_time": "2024-11-22T07:23:56.276576",
     "status": "completed"
    },
    "tags": []
   },
   "source": [
    "**Apply LabelEncoder to each of the categorical variables and convert them into numeric format.**"
   ]
  },
  {
   "cell_type": "markdown",
   "id": "8bfa1d8a",
   "metadata": {
    "papermill": {
     "duration": 0.007315,
     "end_time": "2024-11-22T07:23:56.298442",
     "exception": false,
     "start_time": "2024-11-22T07:23:56.291127",
     "status": "completed"
    },
    "tags": []
   },
   "source": [
    "**Create a copy of the dataframe for label encoding**"
   ]
  },
  {
   "cell_type": "code",
   "execution_count": 9,
   "id": "fcc1e405",
   "metadata": {
    "execution": {
     "iopub.execute_input": "2024-11-22T07:23:56.314741Z",
     "iopub.status.busy": "2024-11-22T07:23:56.314316Z",
     "iopub.status.idle": "2024-11-22T07:23:56.320197Z",
     "shell.execute_reply": "2024-11-22T07:23:56.318841Z"
    },
    "papermill": {
     "duration": 0.017373,
     "end_time": "2024-11-22T07:23:56.322866",
     "exception": false,
     "start_time": "2024-11-22T07:23:56.305493",
     "status": "completed"
    },
    "tags": []
   },
   "outputs": [],
   "source": [
    "df_label_encoded = df.copy()"
   ]
  },
  {
   "cell_type": "markdown",
   "id": "c2277291",
   "metadata": {
    "papermill": {
     "duration": 0.006906,
     "end_time": "2024-11-22T07:23:56.337026",
     "exception": false,
     "start_time": "2024-11-22T07:23:56.330120",
     "status": "completed"
    },
    "tags": []
   },
   "source": [
    "**Initialize LabelEncoder**"
   ]
  },
  {
   "cell_type": "code",
   "execution_count": 10,
   "id": "cbf26cf5",
   "metadata": {
    "execution": {
     "iopub.execute_input": "2024-11-22T07:23:56.354267Z",
     "iopub.status.busy": "2024-11-22T07:23:56.353894Z",
     "iopub.status.idle": "2024-11-22T07:23:56.358913Z",
     "shell.execute_reply": "2024-11-22T07:23:56.357862Z"
    },
    "papermill": {
     "duration": 0.016354,
     "end_time": "2024-11-22T07:23:56.361275",
     "exception": false,
     "start_time": "2024-11-22T07:23:56.344921",
     "status": "completed"
    },
    "tags": []
   },
   "outputs": [],
   "source": [
    "label_encoder = LabelEncoder()"
   ]
  },
  {
   "cell_type": "markdown",
   "id": "82ca2115",
   "metadata": {
    "papermill": {
     "duration": 0.007354,
     "end_time": "2024-11-22T07:23:56.377177",
     "exception": false,
     "start_time": "2024-11-22T07:23:56.369823",
     "status": "completed"
    },
    "tags": []
   },
   "source": [
    "**Apply LabelEncoder to each categorical variable**"
   ]
  },
  {
   "cell_type": "code",
   "execution_count": 11,
   "id": "4c41c8dc",
   "metadata": {
    "execution": {
     "iopub.execute_input": "2024-11-22T07:23:56.394727Z",
     "iopub.status.busy": "2024-11-22T07:23:56.394312Z",
     "iopub.status.idle": "2024-11-22T07:23:56.404027Z",
     "shell.execute_reply": "2024-11-22T07:23:56.402916Z"
    },
    "papermill": {
     "duration": 0.02067,
     "end_time": "2024-11-22T07:23:56.406345",
     "exception": false,
     "start_time": "2024-11-22T07:23:56.385675",
     "status": "completed"
    },
    "tags": []
   },
   "outputs": [],
   "source": [
    "for col in categorical_columns:\n",
    "    df_label_encoded[col] = label_encoder.fit_transform(df_label_encoded[col])"
   ]
  },
  {
   "cell_type": "markdown",
   "id": "5196838b",
   "metadata": {
    "papermill": {
     "duration": 0.006851,
     "end_time": "2024-11-22T07:23:56.421537",
     "exception": false,
     "start_time": "2024-11-22T07:23:56.414686",
     "status": "completed"
    },
    "tags": []
   },
   "source": [
    "**Display the first few rows of the transformed dataframe.**"
   ]
  },
  {
   "cell_type": "code",
   "execution_count": 12,
   "id": "e1f9859f",
   "metadata": {
    "execution": {
     "iopub.execute_input": "2024-11-22T07:23:56.438087Z",
     "iopub.status.busy": "2024-11-22T07:23:56.437674Z",
     "iopub.status.idle": "2024-11-22T07:23:56.447890Z",
     "shell.execute_reply": "2024-11-22T07:23:56.446703Z"
    },
    "papermill": {
     "duration": 0.021105,
     "end_time": "2024-11-22T07:23:56.450149",
     "exception": false,
     "start_time": "2024-11-22T07:23:56.429044",
     "status": "completed"
    },
    "tags": []
   },
   "outputs": [
    {
     "name": "stdout",
     "output_type": "stream",
     "text": [
      "   total_bill   tip  sex  smoker  day  time  size  price_per_person  \\\n",
      "0       16.99  1.01    0       0    2     0     2              8.49   \n",
      "1       10.34  1.66    1       0    2     0     3              3.45   \n",
      "2       21.01  3.50    1       0    2     0     3              7.00   \n",
      "3       23.68  3.31    1       0    2     0     2             11.84   \n",
      "4       24.59  3.61    0       0    2     0     4              6.15   \n",
      "\n",
      "   Payer Name         CC Number  Payment ID  \n",
      "0          40  3560325168603410         122  \n",
      "1          58  4478071379779230         138  \n",
      "2         233  6011812112971322         134  \n",
      "3         180  4676137647685994         143  \n",
      "4         230  4832732618637221         116  \n"
     ]
    }
   ],
   "source": [
    "# Display the first few rows of the transformed dataframe\n",
    "print(df_label_encoded.head())"
   ]
  },
  {
   "cell_type": "markdown",
   "id": "3d10623d",
   "metadata": {
    "papermill": {
     "duration": 0.006848,
     "end_time": "2024-11-22T07:23:56.464223",
     "exception": false,
     "start_time": "2024-11-22T07:23:56.457375",
     "status": "completed"
    },
    "tags": []
   },
   "source": [
    "# Q4: Convert categorical variables to numeric using One-Hot Encoding."
   ]
  },
  {
   "cell_type": "markdown",
   "id": "81d1c2bd",
   "metadata": {
    "papermill": {
     "duration": 0.006926,
     "end_time": "2024-11-22T07:23:56.478281",
     "exception": false,
     "start_time": "2024-11-22T07:23:56.471355",
     "status": "completed"
    },
    "tags": []
   },
   "source": [
    "**Use pd.get_dummies() to apply One-Hot Encoding to the categorical variables.**"
   ]
  },
  {
   "cell_type": "code",
   "execution_count": 13,
   "id": "45e0f6d1",
   "metadata": {
    "execution": {
     "iopub.execute_input": "2024-11-22T07:23:56.495318Z",
     "iopub.status.busy": "2024-11-22T07:23:56.494910Z",
     "iopub.status.idle": "2024-11-22T07:23:56.510028Z",
     "shell.execute_reply": "2024-11-22T07:23:56.508934Z"
    },
    "papermill": {
     "duration": 0.027213,
     "end_time": "2024-11-22T07:23:56.512523",
     "exception": false,
     "start_time": "2024-11-22T07:23:56.485310",
     "status": "completed"
    },
    "tags": []
   },
   "outputs": [],
   "source": [
    "# Apply One-Hot Encoding to the categorical variables\n",
    "df_one_hot_encoded = pd.get_dummies(df, columns=categorical_columns)"
   ]
  },
  {
   "cell_type": "markdown",
   "id": "bee5b3ff",
   "metadata": {
    "papermill": {
     "duration": 0.006842,
     "end_time": "2024-11-22T07:23:56.526753",
     "exception": false,
     "start_time": "2024-11-22T07:23:56.519911",
     "status": "completed"
    },
    "tags": []
   },
   "source": [
    "**Display the first few rows of the transformed dataframe.**"
   ]
  },
  {
   "cell_type": "code",
   "execution_count": 14,
   "id": "da21fa2c",
   "metadata": {
    "execution": {
     "iopub.execute_input": "2024-11-22T07:23:56.543529Z",
     "iopub.status.busy": "2024-11-22T07:23:56.542608Z",
     "iopub.status.idle": "2024-11-22T07:23:56.557017Z",
     "shell.execute_reply": "2024-11-22T07:23:56.555835Z"
    },
    "papermill": {
     "duration": 0.025265,
     "end_time": "2024-11-22T07:23:56.559286",
     "exception": false,
     "start_time": "2024-11-22T07:23:56.534021",
     "status": "completed"
    },
    "tags": []
   },
   "outputs": [
    {
     "name": "stdout",
     "output_type": "stream",
     "text": [
      "   total_bill   tip  size  price_per_person         CC Number  sex_Female  \\\n",
      "0       16.99  1.01     2              8.49  3560325168603410        True   \n",
      "1       10.34  1.66     3              3.45  4478071379779230       False   \n",
      "2       21.01  3.50     3              7.00  6011812112971322       False   \n",
      "3       23.68  3.31     2             11.84  4676137647685994       False   \n",
      "4       24.59  3.61     4              6.15  4832732618637221        True   \n",
      "\n",
      "   sex_Male  smoker_No  smoker_Yes  day_Fri  ...  Payment ID_Thur9003  \\\n",
      "0     False       True       False    False  ...                False   \n",
      "1      True       True       False    False  ...                False   \n",
      "2      True       True       False    False  ...                False   \n",
      "3      True       True       False    False  ...                False   \n",
      "4     False       True       False    False  ...                False   \n",
      "\n",
      "   Payment ID_Thur9005  Payment ID_Thur9313  Payment ID_Thur9318  \\\n",
      "0                False                False                False   \n",
      "1                False                False                False   \n",
      "2                False                False                False   \n",
      "3                False                False                False   \n",
      "4                False                False                False   \n",
      "\n",
      "   Payment ID_Thur9331  Payment ID_Thur9424  Payment ID_Thur9501  \\\n",
      "0                False                False                False   \n",
      "1                False                False                False   \n",
      "2                False                False                False   \n",
      "3                False                False                False   \n",
      "4                False                False                False   \n",
      "\n",
      "   Payment ID_Thur9593  Payment ID_Thur967  Payment ID_Thur9862  \n",
      "0                False               False                False  \n",
      "1                False               False                False  \n",
      "2                False               False                False  \n",
      "3                False               False                False  \n",
      "4                False               False                False  \n",
      "\n",
      "[5 rows x 502 columns]\n"
     ]
    }
   ],
   "source": [
    "# Display the first few rows of the transformed dataframe\n",
    "print(df_one_hot_encoded.head())"
   ]
  },
  {
   "cell_type": "markdown",
   "id": "836d46b9",
   "metadata": {
    "papermill": {
     "duration": 0.007009,
     "end_time": "2024-11-22T07:23:56.574043",
     "exception": false,
     "start_time": "2024-11-22T07:23:56.567034",
     "status": "completed"
    },
    "tags": []
   },
   "source": [
    "**Compare the new dataframe with the label encoded dataframe.**"
   ]
  },
  {
   "cell_type": "code",
   "execution_count": 15,
   "id": "373e1990",
   "metadata": {
    "execution": {
     "iopub.execute_input": "2024-11-22T07:23:56.590862Z",
     "iopub.status.busy": "2024-11-22T07:23:56.590446Z",
     "iopub.status.idle": "2024-11-22T07:23:56.596695Z",
     "shell.execute_reply": "2024-11-22T07:23:56.595428Z"
    },
    "papermill": {
     "duration": 0.017869,
     "end_time": "2024-11-22T07:23:56.599143",
     "exception": false,
     "start_time": "2024-11-22T07:23:56.581274",
     "status": "completed"
    },
    "tags": []
   },
   "outputs": [
    {
     "name": "stdout",
     "output_type": "stream",
     "text": [
      "Shape of Label Encoded DataFrame: (244, 11)\n",
      "Shape of One-Hot Encoded DataFrame: (244, 502)\n"
     ]
    }
   ],
   "source": [
    "# Compare the new dataframe with the label-encoded dataframe\n",
    "print(\"Shape of Label Encoded DataFrame:\", df_label_encoded.shape)\n",
    "print(\"Shape of One-Hot Encoded DataFrame:\", df_one_hot_encoded.shape)"
   ]
  },
  {
   "cell_type": "code",
   "execution_count": null,
   "id": "6dbe851f",
   "metadata": {
    "papermill": {
     "duration": 0.006993,
     "end_time": "2024-11-22T07:23:56.613679",
     "exception": false,
     "start_time": "2024-11-22T07:23:56.606686",
     "status": "completed"
    },
    "tags": []
   },
   "outputs": [],
   "source": []
  }
 ],
 "metadata": {
  "kaggle": {
   "accelerator": "none",
   "dataSources": [
    {
     "datasetId": 6140860,
     "sourceId": 9979844,
     "sourceType": "datasetVersion"
    }
   ],
   "dockerImageVersionId": 30786,
   "isGpuEnabled": false,
   "isInternetEnabled": true,
   "language": "python",
   "sourceType": "notebook"
  },
  "kernelspec": {
   "display_name": "Python 3",
   "language": "python",
   "name": "python3"
  },
  "language_info": {
   "codemirror_mode": {
    "name": "ipython",
    "version": 3
   },
   "file_extension": ".py",
   "mimetype": "text/x-python",
   "name": "python",
   "nbconvert_exporter": "python",
   "pygments_lexer": "ipython3",
   "version": "3.10.14"
  },
  "papermill": {
   "default_parameters": {},
   "duration": 12.775575,
   "end_time": "2024-11-22T07:23:57.243050",
   "environment_variables": {},
   "exception": null,
   "input_path": "__notebook__.ipynb",
   "output_path": "__notebook__.ipynb",
   "parameters": {},
   "start_time": "2024-11-22T07:23:44.467475",
   "version": "2.6.0"
  }
 },
 "nbformat": 4,
 "nbformat_minor": 5
}
