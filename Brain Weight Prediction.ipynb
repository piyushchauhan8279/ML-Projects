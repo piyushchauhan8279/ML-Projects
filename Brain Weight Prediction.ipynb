{
 "cells": [
  {
   "cell_type": "markdown",
   "id": "9a17b24e",
   "metadata": {
    "papermill": {
     "duration": 0.007781,
     "end_time": "2024-11-22T06:55:00.866064",
     "exception": false,
     "start_time": "2024-11-22T06:55:00.858283",
     "status": "completed"
    },
    "tags": []
   },
   "source": [
    "# Objective: The objective of this analysis is to develop a linear regression model to predict brain weight based on various features from the Head Brain dataset."
   ]
  },
  {
   "cell_type": "markdown",
   "id": "38c529ea",
   "metadata": {
    "papermill": {
     "duration": 0.006615,
     "end_time": "2024-11-22T06:55:00.880339",
     "exception": false,
     "start_time": "2024-11-22T06:55:00.873724",
     "status": "completed"
    },
    "tags": []
   },
   "source": [
    "# Q1: Load the data from the HeadBrain.CSV file and perform initial exploratory data analysis (EDA)."
   ]
  },
  {
   "cell_type": "markdown",
   "id": "f2d8c1bd",
   "metadata": {
    "papermill": {
     "duration": 0.006183,
     "end_time": "2024-11-22T06:55:00.892749",
     "exception": false,
     "start_time": "2024-11-22T06:55:00.886566",
     "status": "completed"
    },
    "tags": []
   },
   "source": [
    "**import Libraries**"
   ]
  },
  {
   "cell_type": "code",
   "execution_count": 1,
   "id": "a14a0810",
   "metadata": {
    "execution": {
     "iopub.execute_input": "2024-11-22T06:55:00.907303Z",
     "iopub.status.busy": "2024-11-22T06:55:00.906631Z",
     "iopub.status.idle": "2024-11-22T06:55:03.839899Z",
     "shell.execute_reply": "2024-11-22T06:55:03.838839Z"
    },
    "papermill": {
     "duration": 2.944216,
     "end_time": "2024-11-22T06:55:03.843077",
     "exception": false,
     "start_time": "2024-11-22T06:55:00.898861",
     "status": "completed"
    },
    "tags": []
   },
   "outputs": [],
   "source": [
    "# Import necessary libraries\n",
    "import pandas as pd\n",
    "import numpy as np\n",
    "import matplotlib.pyplot as plt\n",
    "import seaborn as sns"
   ]
  },
  {
   "cell_type": "markdown",
   "id": "c4de6ffa",
   "metadata": {
    "papermill": {
     "duration": 0.008014,
     "end_time": "2024-11-22T06:55:03.859450",
     "exception": false,
     "start_time": "2024-11-22T06:55:03.851436",
     "status": "completed"
    },
    "tags": []
   },
   "source": [
    "**Load the dataset using pandas.read_csv().**\r\n",
    "\r\n"
   ]
  },
  {
   "cell_type": "code",
   "execution_count": 2,
   "id": "fe85cd23",
   "metadata": {
    "execution": {
     "iopub.execute_input": "2024-11-22T06:55:03.874585Z",
     "iopub.status.busy": "2024-11-22T06:55:03.874060Z",
     "iopub.status.idle": "2024-11-22T06:55:03.896587Z",
     "shell.execute_reply": "2024-11-22T06:55:03.895597Z"
    },
    "papermill": {
     "duration": 0.032884,
     "end_time": "2024-11-22T06:55:03.899057",
     "exception": false,
     "start_time": "2024-11-22T06:55:03.866173",
     "status": "completed"
    },
    "tags": []
   },
   "outputs": [],
   "source": [
    "# Load the dataset\n",
    "df = pd.read_csv('/kaggle/input/headbrain/headbrain.csv')"
   ]
  },
  {
   "cell_type": "code",
   "execution_count": 3,
   "id": "42228c2a",
   "metadata": {
    "execution": {
     "iopub.execute_input": "2024-11-22T06:55:03.915455Z",
     "iopub.status.busy": "2024-11-22T06:55:03.915048Z",
     "iopub.status.idle": "2024-11-22T06:55:03.930029Z",
     "shell.execute_reply": "2024-11-22T06:55:03.928816Z"
    },
    "papermill": {
     "duration": 0.025587,
     "end_time": "2024-11-22T06:55:03.932426",
     "exception": false,
     "start_time": "2024-11-22T06:55:03.906839",
     "status": "completed"
    },
    "tags": []
   },
   "outputs": [
    {
     "name": "stdout",
     "output_type": "stream",
     "text": [
      "   Gender  Age Range  Head Size(cm^3)  Brain Weight(grams)\n",
      "0       1          1             4512                 1530\n",
      "1       1          1             3738                 1297\n",
      "2       1          1             4261                 1335\n",
      "3       1          1             3777                 1282\n",
      "4       1          1             4177                 1590\n"
     ]
    }
   ],
   "source": [
    "# Display the first few rows of the dataset\n",
    "print(df.head())"
   ]
  },
  {
   "cell_type": "code",
   "execution_count": 4,
   "id": "9ce097d6",
   "metadata": {
    "execution": {
     "iopub.execute_input": "2024-11-22T06:55:03.947599Z",
     "iopub.status.busy": "2024-11-22T06:55:03.947238Z",
     "iopub.status.idle": "2024-11-22T06:55:03.958475Z",
     "shell.execute_reply": "2024-11-22T06:55:03.956856Z"
    },
    "papermill": {
     "duration": 0.021213,
     "end_time": "2024-11-22T06:55:03.960666",
     "exception": false,
     "start_time": "2024-11-22T06:55:03.939453",
     "status": "completed"
    },
    "tags": []
   },
   "outputs": [
    {
     "name": "stdout",
     "output_type": "stream",
     "text": [
      "Gender                 0\n",
      "Age Range              0\n",
      "Head Size(cm^3)        0\n",
      "Brain Weight(grams)    0\n",
      "dtype: int64\n"
     ]
    }
   ],
   "source": [
    "# Check for missing values\n",
    "print(df.isnull().sum())"
   ]
  },
  {
   "cell_type": "code",
   "execution_count": 5,
   "id": "4efb392f",
   "metadata": {
    "execution": {
     "iopub.execute_input": "2024-11-22T06:55:03.975428Z",
     "iopub.status.busy": "2024-11-22T06:55:03.975046Z",
     "iopub.status.idle": "2024-11-22T06:55:04.002203Z",
     "shell.execute_reply": "2024-11-22T06:55:04.000441Z"
    },
    "papermill": {
     "duration": 0.037625,
     "end_time": "2024-11-22T06:55:04.004918",
     "exception": false,
     "start_time": "2024-11-22T06:55:03.967293",
     "status": "completed"
    },
    "tags": []
   },
   "outputs": [
    {
     "name": "stdout",
     "output_type": "stream",
     "text": [
      "           Gender   Age Range  Head Size(cm^3)  Brain Weight(grams)\n",
      "count  237.000000  237.000000       237.000000           237.000000\n",
      "mean     1.434599    1.535865      3633.991561          1282.873418\n",
      "std      0.496753    0.499768       365.261422           120.340446\n",
      "min      1.000000    1.000000      2720.000000           955.000000\n",
      "25%      1.000000    1.000000      3389.000000          1207.000000\n",
      "50%      1.000000    2.000000      3614.000000          1280.000000\n",
      "75%      2.000000    2.000000      3876.000000          1350.000000\n",
      "max      2.000000    2.000000      4747.000000          1635.000000\n"
     ]
    }
   ],
   "source": [
    "# Display summary statistics\n",
    "print(df.describe())"
   ]
  },
  {
   "cell_type": "code",
   "execution_count": 6,
   "id": "4fa60cf6",
   "metadata": {
    "execution": {
     "iopub.execute_input": "2024-11-22T06:55:04.020703Z",
     "iopub.status.busy": "2024-11-22T06:55:04.020227Z",
     "iopub.status.idle": "2024-11-22T06:55:04.466432Z",
     "shell.execute_reply": "2024-11-22T06:55:04.465389Z"
    },
    "papermill": {
     "duration": 0.457373,
     "end_time": "2024-11-22T06:55:04.468935",
     "exception": false,
     "start_time": "2024-11-22T06:55:04.011562",
     "status": "completed"
    },
    "tags": []
   },
   "outputs": [
    {
     "name": "stderr",
     "output_type": "stream",
     "text": [
      "/opt/conda/lib/python3.10/site-packages/seaborn/_oldcore.py:1119: FutureWarning: use_inf_as_na option is deprecated and will be removed in a future version. Convert inf values to NaN before operating instead.\n",
      "  with pd.option_context('mode.use_inf_as_na', True):\n"
     ]
    },
    {
     "data": {
      "image/png": "[encoded data removed]",
      "text/plain": [
       "<Figure size 1000x600 with 1 Axes>"
      ]
     },
     "metadata": {},
     "output_type": "display_data"
    }
   ],
   "source": [
    "# Visualize the distribution of the target variable (Brain Weight)\n",
    "plt.figure(figsize=(10, 6))\n",
    "sns.histplot(df['Brain Weight(grams)'], bins=30, kde=True)\n",
    "plt.title('Distribution of Brain Weight')\n",
    "plt.show()"
   ]
  },
  {
   "cell_type": "markdown",
   "id": "bf7cda8a",
   "metadata": {
    "papermill": {
     "duration": 0.006606,
     "end_time": "2024-11-22T06:55:04.482775",
     "exception": false,
     "start_time": "2024-11-22T06:55:04.476169",
     "status": "completed"
    },
    "tags": []
   },
   "source": [
    "# Q2: Analyze and visualize the correlation between the features and the target variable (brain weight)."
   ]
  },
  {
   "cell_type": "code",
   "execution_count": 7,
   "id": "e7415b21",
   "metadata": {
    "execution": {
     "iopub.execute_input": "2024-11-22T06:55:04.498782Z",
     "iopub.status.busy": "2024-11-22T06:55:04.498000Z",
     "iopub.status.idle": "2024-11-22T06:55:04.503311Z",
     "shell.execute_reply": "2024-11-22T06:55:04.502154Z"
    },
    "papermill": {
     "duration": 0.015692,
     "end_time": "2024-11-22T06:55:04.505433",
     "exception": false,
     "start_time": "2024-11-22T06:55:04.489741",
     "status": "completed"
    },
    "tags": []
   },
   "outputs": [],
   "source": [
    "# Calculate the correlation matrix\n",
    "correlation_matrix = df.corr()"
   ]
  },
  {
   "cell_type": "code",
   "execution_count": 8,
   "id": "69db2a0a",
   "metadata": {
    "execution": {
     "iopub.execute_input": "2024-11-22T06:55:04.521588Z",
     "iopub.status.busy": "2024-11-22T06:55:04.521230Z",
     "iopub.status.idle": "2024-11-22T06:55:04.830564Z",
     "shell.execute_reply": "2024-11-22T06:55:04.829418Z"
    },
    "papermill": {
     "duration": 0.320307,
     "end_time": "2024-11-22T06:55:04.832879",
     "exception": false,
     "start_time": "2024-11-22T06:55:04.512572",
     "status": "completed"
    },
    "tags": []
   },
   "outputs": [
    {
     "data": {
      "image/png": "[encoded data removed]",
      "text/plain": [
       "<Figure size 1200x800 with 2 Axes>"
      ]
     },
     "metadata": {},
     "output_type": "display_data"
    }
   ],
   "source": [
    "# Visualize the correlation matrix using a heatmap\n",
    "plt.figure(figsize=(12, 8))\n",
    "sns.heatmap(correlation_matrix, annot=True, cmap=\"coolwarm\", linewidths=0.5)\n",
    "plt.title('Correlation Heatmap')\n",
    "plt.show()"
   ]
  },
  {
   "cell_type": "markdown",
   "id": "c643d456",
   "metadata": {
    "papermill": {
     "duration": 0.007523,
     "end_time": "2024-11-22T06:55:04.848642",
     "exception": false,
     "start_time": "2024-11-22T06:55:04.841119",
     "status": "completed"
    },
    "tags": []
   },
   "source": [
    "**Identify and list the features that have the highest positive and negative correlation with the target variable.**"
   ]
  },
  {
   "cell_type": "code",
   "execution_count": 9,
   "id": "52e46272",
   "metadata": {
    "execution": {
     "iopub.execute_input": "2024-11-22T06:55:04.865478Z",
     "iopub.status.busy": "2024-11-22T06:55:04.865126Z",
     "iopub.status.idle": "2024-11-22T06:55:04.874801Z",
     "shell.execute_reply": "2024-11-22T06:55:04.873615Z"
    },
    "papermill": {
     "duration": 0.020574,
     "end_time": "2024-11-22T06:55:04.876804",
     "exception": false,
     "start_time": "2024-11-22T06:55:04.856230",
     "status": "completed"
    },
    "tags": []
   },
   "outputs": [
    {
     "name": "stdout",
     "output_type": "stream",
     "text": [
      "Features with highest positive correlation:\n",
      " Brain Weight(grams)    1.000000\n",
      "Head Size(cm^3)        0.799570\n",
      "Age Range             -0.169438\n",
      "Name: Brain Weight(grams), dtype: float64\n",
      "Features with highest negative correlation:\n",
      " Head Size(cm^3)    0.799570\n",
      "Age Range         -0.169438\n",
      "Gender            -0.465266\n",
      "Name: Brain Weight(grams), dtype: float64\n"
     ]
    }
   ],
   "source": [
    "# Find the highest positive and negative correlations with the target variable (Brain Weight)\n",
    "correlation_brain_weight = correlation_matrix['Brain Weight(grams)'].sort_values(ascending=False)\n",
    "print(\"Features with highest positive correlation:\\n\", correlation_brain_weight.head(3))\n",
    "print(\"Features with highest negative correlation:\\n\", correlation_brain_weight.tail(3))"
   ]
  },
  {
   "cell_type": "markdown",
   "id": "689c491b",
   "metadata": {
    "papermill": {
     "duration": 0.007299,
     "end_time": "2024-11-22T06:55:04.891783",
     "exception": false,
     "start_time": "2024-11-22T06:55:04.884484",
     "status": "completed"
    },
    "tags": []
   },
   "source": [
    "# Q3: Prepare the data for training the Multiple Linear Regression model."
   ]
  },
  {
   "cell_type": "code",
   "execution_count": 10,
   "id": "a8589029",
   "metadata": {
    "execution": {
     "iopub.execute_input": "2024-11-22T06:55:04.909332Z",
     "iopub.status.busy": "2024-11-22T06:55:04.908721Z",
     "iopub.status.idle": "2024-11-22T06:55:04.914272Z",
     "shell.execute_reply": "2024-11-22T06:55:04.913239Z"
    },
    "papermill": {
     "duration": 0.016462,
     "end_time": "2024-11-22T06:55:04.916366",
     "exception": false,
     "start_time": "2024-11-22T06:55:04.899904",
     "status": "completed"
    },
    "tags": []
   },
   "outputs": [],
   "source": [
    "# Select the features (X) and the target variable (y)\n",
    "X = df.drop('Brain Weight(grams)', axis=1)\n",
    "y = df['Brain Weight(grams)']"
   ]
  },
  {
   "cell_type": "markdown",
   "id": "f45396e7",
   "metadata": {
    "papermill": {
     "duration": 0.007587,
     "end_time": "2024-11-22T06:55:04.931671",
     "exception": false,
     "start_time": "2024-11-22T06:55:04.924084",
     "status": "completed"
    },
    "tags": []
   },
   "source": [
    "**Split the dataset into training and testing sets using train_test_split from sklearn.model_selection.**"
   ]
  },
  {
   "cell_type": "code",
   "execution_count": 11,
   "id": "3bb44b82",
   "metadata": {
    "execution": {
     "iopub.execute_input": "2024-11-22T06:55:04.949043Z",
     "iopub.status.busy": "2024-11-22T06:55:04.948150Z",
     "iopub.status.idle": "2024-11-22T06:55:05.218927Z",
     "shell.execute_reply": "2024-11-22T06:55:05.217892Z"
    },
    "papermill": {
     "duration": 0.282314,
     "end_time": "2024-11-22T06:55:05.221603",
     "exception": false,
     "start_time": "2024-11-22T06:55:04.939289",
     "status": "completed"
    },
    "tags": []
   },
   "outputs": [],
   "source": [
    "from sklearn.model_selection import train_test_split\n",
    "from sklearn.preprocessing import StandardScaler"
   ]
  },
  {
   "cell_type": "code",
   "execution_count": 12,
   "id": "907e1324",
   "metadata": {
    "execution": {
     "iopub.execute_input": "2024-11-22T06:55:05.239667Z",
     "iopub.status.busy": "2024-11-22T06:55:05.239290Z",
     "iopub.status.idle": "2024-11-22T06:55:05.248248Z",
     "shell.execute_reply": "2024-11-22T06:55:05.247159Z"
    },
    "papermill": {
     "duration": 0.020702,
     "end_time": "2024-11-22T06:55:05.250560",
     "exception": false,
     "start_time": "2024-11-22T06:55:05.229858",
     "status": "completed"
    },
    "tags": []
   },
   "outputs": [],
   "source": [
    "# Split the dataset into training and testing sets\n",
    "X_train, X_test, y_train, y_test = train_test_split(X, y, test_size=0.2, random_state=42)"
   ]
  },
  {
   "cell_type": "code",
   "execution_count": 13,
   "id": "1d79b65b",
   "metadata": {
    "execution": {
     "iopub.execute_input": "2024-11-22T06:55:05.271517Z",
     "iopub.status.busy": "2024-11-22T06:55:05.271076Z",
     "iopub.status.idle": "2024-11-22T06:55:05.281641Z",
     "shell.execute_reply": "2024-11-22T06:55:05.280500Z"
    },
    "papermill": {
     "duration": 0.023759,
     "end_time": "2024-11-22T06:55:05.284348",
     "exception": false,
     "start_time": "2024-11-22T06:55:05.260589",
     "status": "completed"
    },
    "tags": []
   },
   "outputs": [],
   "source": [
    "# Standardize the feature variables\n",
    "scaler = StandardScaler()\n",
    "X_train = scaler.fit_transform(X_train)\n",
    "X_test = scaler.transform(X_test)"
   ]
  },
  {
   "cell_type": "markdown",
   "id": "5d6afd2c",
   "metadata": {
    "papermill": {
     "duration": 0.007895,
     "end_time": "2024-11-22T06:55:05.300147",
     "exception": false,
     "start_time": "2024-11-22T06:55:05.292252",
     "status": "completed"
    },
    "tags": []
   },
   "source": [
    "# Q4: Train a Multiple Linear Regression model using the training data."
   ]
  },
  {
   "cell_type": "markdown",
   "id": "0394f908",
   "metadata": {
    "papermill": {
     "duration": 0.008276,
     "end_time": "2024-11-22T06:55:05.316232",
     "exception": false,
     "start_time": "2024-11-22T06:55:05.307956",
     "status": "completed"
    },
    "tags": []
   },
   "source": [
    "**Import the LinearRegression class from sklearn.linear_model.**"
   ]
  },
  {
   "cell_type": "code",
   "execution_count": 14,
   "id": "96eb944d",
   "metadata": {
    "execution": {
     "iopub.execute_input": "2024-11-22T06:55:05.333627Z",
     "iopub.status.busy": "2024-11-22T06:55:05.332920Z",
     "iopub.status.idle": "2024-11-22T06:55:05.437307Z",
     "shell.execute_reply": "2024-11-22T06:55:05.436065Z"
    },
    "papermill": {
     "duration": 0.115928,
     "end_time": "2024-11-22T06:55:05.439963",
     "exception": false,
     "start_time": "2024-11-22T06:55:05.324035",
     "status": "completed"
    },
    "tags": []
   },
   "outputs": [],
   "source": [
    "from sklearn.linear_model import LinearRegression"
   ]
  },
  {
   "cell_type": "code",
   "execution_count": 15,
   "id": "9917c3b6",
   "metadata": {
    "execution": {
     "iopub.execute_input": "2024-11-22T06:55:05.458183Z",
     "iopub.status.busy": "2024-11-22T06:55:05.457262Z",
     "iopub.status.idle": "2024-11-22T06:55:05.484270Z",
     "shell.execute_reply": "2024-11-22T06:55:05.483168Z"
    },
    "papermill": {
     "duration": 0.038256,
     "end_time": "2024-11-22T06:55:05.486644",
     "exception": false,
     "start_time": "2024-11-22T06:55:05.448388",
     "status": "completed"
    },
    "tags": []
   },
   "outputs": [
    {
     "data": {
      "text/html": [
       "<style>#sk-container-id-1 {color: black;background-color: white;}#sk-container-id-1 pre{padding: 0;}#sk-container-id-1 div.sk-toggleable {background-color: white;}#sk-container-id-1 label.sk-toggleable__label {cursor: pointer;display: block;width: 100%;margin-bottom: 0;padding: 0.3em;box-sizing: border-box;text-align: center;}#sk-container-id-1 label.sk-toggleable__label-arrow:before {content: \"▸\";float: left;margin-right: 0.25em;color: #696969;}#sk-container-id-1 label.sk-toggleable__label-arrow:hover:before {color: black;}#sk-container-id-1 div.sk-estimator:hover label.sk-toggleable__label-arrow:before {color: black;}#sk-container-id-1 div.sk-toggleable__content {max-height: 0;max-width: 0;overflow: hidden;text-align: left;background-color: #f0f8ff;}#sk-container-id-1 div.sk-toggleable__content pre {margin: 0.2em;color: black;border-radius: 0.25em;background-color: #f0f8ff;}#sk-container-id-1 input.sk-toggleable__control:checked~div.sk-toggleable__content {max-height: 200px;max-width: 100%;overflow: auto;}#sk-container-id-1 input.sk-toggleable__control:checked~label.sk-toggleable__label-arrow:before {content: \"▾\";}#sk-container-id-1 div.sk-estimator input.sk-toggleable__control:checked~label.sk-toggleable__label {background-color: #d4ebff;}#sk-container-id-1 div.sk-label input.sk-toggleable__control:checked~label.sk-toggleable__label {background-color: #d4ebff;}#sk-container-id-1 input.sk-hidden--visually {border: 0;clip: rect(1px 1px 1px 1px);clip: rect(1px, 1px, 1px, 1px);height: 1px;margin: -1px;overflow: hidden;padding: 0;position: absolute;width: 1px;}#sk-container-id-1 div.sk-estimator {font-family: monospace;background-color: #f0f8ff;border: 1px dotted black;border-radius: 0.25em;box-sizing: border-box;margin-bottom: 0.5em;}#sk-container-id-1 div.sk-estimator:hover {background-color: #d4ebff;}#sk-container-id-1 div.sk-parallel-item::after {content: \"\";width: 100%;border-bottom: 1px solid gray;flex-grow: 1;}#sk-container-id-1 div.sk-label:hover label.sk-toggleable__label {background-color: #d4ebff;}#sk-container-id-1 div.sk-serial::before {content: \"\";position: absolute;border-left: 1px solid gray;box-sizing: border-box;top: 0;bottom: 0;left: 50%;z-index: 0;}#sk-container-id-1 div.sk-serial {display: flex;flex-direction: column;align-items: center;background-color: white;padding-right: 0.2em;padding-left: 0.2em;position: relative;}#sk-container-id-1 div.sk-item {position: relative;z-index: 1;}#sk-container-id-1 div.sk-parallel {display: flex;align-items: stretch;justify-content: center;background-color: white;position: relative;}#sk-container-id-1 div.sk-item::before, #sk-container-id-1 div.sk-parallel-item::before {content: \"\";position: absolute;border-left: 1px solid gray;box-sizing: border-box;top: 0;bottom: 0;left: 50%;z-index: -1;}#sk-container-id-1 div.sk-parallel-item {display: flex;flex-direction: column;z-index: 1;position: relative;background-color: white;}#sk-container-id-1 div.sk-parallel-item:first-child::after {align-self: flex-end;width: 50%;}#sk-container-id-1 div.sk-parallel-item:last-child::after {align-self: flex-start;width: 50%;}#sk-container-id-1 div.sk-parallel-item:only-child::after {width: 0;}#sk-container-id-1 div.sk-dashed-wrapped {border: 1px dashed gray;margin: 0 0.4em 0.5em 0.4em;box-sizing: border-box;padding-bottom: 0.4em;background-color: white;}#sk-container-id-1 div.sk-label label {font-family: monospace;font-weight: bold;display: inline-block;line-height: 1.2em;}#sk-container-id-1 div.sk-label-container {text-align: center;}#sk-container-id-1 div.sk-container {/* jupyter's `normalize.less` sets `[hidden] { display: none; }` but bootstrap.min.css set `[hidden] { display: none !important; }` so we also need the `!important` here to be able to override the default hidden behavior on the sphinx rendered scikit-learn.org. See: https://github.com/scikit-learn/scikit-learn/issues/21755 */display: inline-block !important;position: relative;}#sk-container-id-1 div.sk-text-repr-fallback {display: none;}</style><div id=\"sk-container-id-1\" class=\"sk-top-container\"><div class=\"sk-text-repr-fallback\"><pre>LinearRegression()</pre><b>In a Jupyter environment, please rerun this cell to show the HTML representation or trust the notebook. <br />On GitHub, the HTML representation is unable to render, please try loading this page with nbviewer.org.</b></div><div class=\"sk-container\" hidden><div class=\"sk-item\"><div class=\"sk-estimator sk-toggleable\"><input class=\"sk-toggleable__control sk-hidden--visually\" id=\"sk-estimator-id-1\" type=\"checkbox\" checked><label for=\"sk-estimator-id-1\" class=\"sk-toggleable__label sk-toggleable__label-arrow\">LinearRegression</label><div class=\"sk-toggleable__content\"><pre>LinearRegression()</pre></div></div></div></div></div>"
      ],
      "text/plain": [
       "LinearRegression()"
      ]
     },
     "execution_count": 15,
     "metadata": {},
     "output_type": "execute_result"
    }
   ],
   "source": [
    "# Instantiate and train the model\n",
    "model = LinearRegression()\n",
    "model.fit(X_train, y_train)"
   ]
  },
  {
   "cell_type": "markdown",
   "id": "662801d4",
   "metadata": {
    "papermill": {
     "duration": 0.007848,
     "end_time": "2024-11-22T06:55:05.503072",
     "exception": false,
     "start_time": "2024-11-22T06:55:05.495224",
     "status": "completed"
    },
    "tags": []
   },
   "source": [
    "**Display the model's coefficients and intercept.**"
   ]
  },
  {
   "cell_type": "code",
   "execution_count": 16,
   "id": "0000930e",
   "metadata": {
    "execution": {
     "iopub.execute_input": "2024-11-22T06:55:05.521878Z",
     "iopub.status.busy": "2024-11-22T06:55:05.521484Z",
     "iopub.status.idle": "2024-11-22T06:55:05.528428Z",
     "shell.execute_reply": "2024-11-22T06:55:05.527169Z"
    },
    "papermill": {
     "duration": 0.019429,
     "end_time": "2024-11-22T06:55:05.530584",
     "exception": false,
     "start_time": "2024-11-22T06:55:05.511155",
     "status": "completed"
    },
    "tags": []
   },
   "outputs": [
    {
     "name": "stdout",
     "output_type": "stream",
     "text": [
      "Coefficients: [ -7.18012209 -11.79928219  87.6224021 ]\n",
      "Intercept: 1281.3227513227514\n"
     ]
    }
   ],
   "source": [
    "print(\"Coefficients:\", model.coef_)\n",
    "print(\"Intercept:\", model.intercept_)"
   ]
  },
  {
   "cell_type": "markdown",
   "id": "49e3b3d1",
   "metadata": {
    "papermill": {
     "duration": 0.008134,
     "end_time": "2024-11-22T06:55:05.547696",
     "exception": false,
     "start_time": "2024-11-22T06:55:05.539562",
     "status": "completed"
    },
    "tags": []
   },
   "source": [
    "# Q5: Evaluate the performance of the Multiple Linear Regression model using the testing data."
   ]
  },
  {
   "cell_type": "code",
   "execution_count": 17,
   "id": "d67fd34f",
   "metadata": {
    "execution": {
     "iopub.execute_input": "2024-11-22T06:55:05.566835Z",
     "iopub.status.busy": "2024-11-22T06:55:05.566182Z",
     "iopub.status.idle": "2024-11-22T06:55:05.571474Z",
     "shell.execute_reply": "2024-11-22T06:55:05.570233Z"
    },
    "papermill": {
     "duration": 0.017043,
     "end_time": "2024-11-22T06:55:05.573636",
     "exception": false,
     "start_time": "2024-11-22T06:55:05.556593",
     "status": "completed"
    },
    "tags": []
   },
   "outputs": [],
   "source": [
    "from sklearn.metrics import mean_absolute_error, mean_squared_error"
   ]
  },
  {
   "cell_type": "markdown",
   "id": "e8cc6b16",
   "metadata": {
    "papermill": {
     "duration": 0.008008,
     "end_time": "2024-11-22T06:55:05.589938",
     "exception": false,
     "start_time": "2024-11-22T06:55:05.581930",
     "status": "completed"
    },
    "tags": []
   },
   "source": [
    "**Predict the brain weights using the testing data.**"
   ]
  },
  {
   "cell_type": "code",
   "execution_count": 18,
   "id": "d586cfe1",
   "metadata": {
    "execution": {
     "iopub.execute_input": "2024-11-22T06:55:05.608620Z",
     "iopub.status.busy": "2024-11-22T06:55:05.608257Z",
     "iopub.status.idle": "2024-11-22T06:55:05.613647Z",
     "shell.execute_reply": "2024-11-22T06:55:05.612559Z"
    },
    "papermill": {
     "duration": 0.017699,
     "end_time": "2024-11-22T06:55:05.616495",
     "exception": false,
     "start_time": "2024-11-22T06:55:05.598796",
     "status": "completed"
    },
    "tags": []
   },
   "outputs": [],
   "source": [
    "# Predict brain weights using the testing data\n",
    "y_pred = model.predict(X_test)"
   ]
  },
  {
   "cell_type": "markdown",
   "id": "f4de4644",
   "metadata": {
    "papermill": {
     "duration": 0.007915,
     "end_time": "2024-11-22T06:55:05.632742",
     "exception": false,
     "start_time": "2024-11-22T06:55:05.624827",
     "status": "completed"
    },
    "tags": []
   },
   "source": [
    "**Calculate and display the performance metrics: Mean Absolute Error (MAE), Mean Squared Error (MSE), and Root Mean Squared Error (RMSE) using mean_absolute_error and mean_squared_error from sklearn.metrics.**"
   ]
  },
  {
   "cell_type": "code",
   "execution_count": 19,
   "id": "0b470c48",
   "metadata": {
    "execution": {
     "iopub.execute_input": "2024-11-22T06:55:05.650982Z",
     "iopub.status.busy": "2024-11-22T06:55:05.650594Z",
     "iopub.status.idle": "2024-11-22T06:55:05.658447Z",
     "shell.execute_reply": "2024-11-22T06:55:05.657347Z"
    },
    "papermill": {
     "duration": 0.020839,
     "end_time": "2024-11-22T06:55:05.661828",
     "exception": false,
     "start_time": "2024-11-22T06:55:05.640989",
     "status": "completed"
    },
    "tags": []
   },
   "outputs": [
    {
     "name": "stdout",
     "output_type": "stream",
     "text": [
      "Mean Absolute Error (MAE): 54.08968544229677\n",
      "Mean Squared Error (MSE): 4349.999457297087\n",
      "Root Mean Squared Error (RMSE): 65.9545256771443\n"
     ]
    }
   ],
   "source": [
    "# Calculate performance metrics\n",
    "mae = mean_absolute_error(y_test, y_pred)\n",
    "mse = mean_squared_error(y_test, y_pred)\n",
    "rmse = np.sqrt(mse)\n",
    "\n",
    "print(f\"Mean Absolute Error (MAE): {mae}\")\n",
    "print(f\"Mean Squared Error (MSE): {mse}\")\n",
    "print(f\"Root Mean Squared Error (RMSE): {rmse}\")"
   ]
  },
  {
   "cell_type": "markdown",
   "id": "6832e5ef",
   "metadata": {
    "papermill": {
     "duration": 0.008376,
     "end_time": "2024-11-22T06:55:05.678788",
     "exception": false,
     "start_time": "2024-11-22T06:55:05.670412",
     "status": "completed"
    },
    "tags": []
   },
   "source": [
    "**Plot the predicted vs actual brain weights.**"
   ]
  },
  {
   "cell_type": "code",
   "execution_count": 20,
   "id": "2012dc24",
   "metadata": {
    "execution": {
     "iopub.execute_input": "2024-11-22T06:55:05.697552Z",
     "iopub.status.busy": "2024-11-22T06:55:05.697175Z",
     "iopub.status.idle": "2024-11-22T06:55:06.013283Z",
     "shell.execute_reply": "2024-11-22T06:55:06.012140Z"
    },
    "papermill": {
     "duration": 0.327875,
     "end_time": "2024-11-22T06:55:06.015468",
     "exception": false,
     "start_time": "2024-11-22T06:55:05.687593",
     "status": "completed"
    },
    "tags": []
   },
   "outputs": [
    {
     "data": {
      "image/png": "[encoded data removed]",
      "text/plain": [
       "<Figure size 1000x600 with 1 Axes>"
      ]
     },
     "metadata": {},
     "output_type": "display_data"
    }
   ],
   "source": [
    "plt.figure(figsize=(10, 6))\n",
    "plt.scatter(y_test, y_pred, color='blue', alpha=0.5)\n",
    "plt.plot([min(y_test), max(y_test)], [min(y_test), max(y_test)], color='red', linewidth=2)\n",
    "plt.title('Predicted vs Actual Brain Weights')\n",
    "plt.xlabel('Actual Brain Weight')\n",
    "plt.ylabel('Predicted Brain Weight')\n",
    "plt.show()"
   ]
  },
  {
   "cell_type": "code",
   "execution_count": null,
   "id": "7b89c94e",
   "metadata": {
    "papermill": {
     "duration": 0.009061,
     "end_time": "2024-11-22T06:55:06.035330",
     "exception": false,
     "start_time": "2024-11-22T06:55:06.026269",
     "status": "completed"
    },
    "tags": []
   },
   "outputs": [],
   "source": []
  }
 ],
 "metadata": {
  "kaggle": {
   "accelerator": "none",
   "dataSources": [
    {
     "datasetId": 6140675,
     "sourceId": 9979592,
     "sourceType": "datasetVersion"
    }
   ],
   "dockerImageVersionId": 30786,
   "isGpuEnabled": false,
   "isInternetEnabled": true,
   "language": "python",
   "sourceType": "notebook"
  },
  "kernelspec": {
   "display_name": "Python 3",
   "language": "python",
   "name": "python3"
  },
  "language_info": {
   "codemirror_mode": {
    "name": "ipython",
    "version": 3
   },
   "file_extension": ".py",
   "mimetype": "text/x-python",
   "name": "python",
   "nbconvert_exporter": "python",
   "pygments_lexer": "ipython3",
   "version": "3.10.14"
  },
  "papermill": {
   "default_parameters": {},
   "duration": 8.732398,
   "end_time": "2024-11-22T06:55:06.768041",
   "environment_variables": {},
   "exception": null,
   "input_path": "__notebook__.ipynb",
   "output_path": "__notebook__.ipynb",
   "parameters": {},
   "start_time": "2024-11-22T06:54:58.035643",
   "version": "2.6.0"
  }
 },
 "nbformat": 4,
 "nbformat_minor": 5
}
