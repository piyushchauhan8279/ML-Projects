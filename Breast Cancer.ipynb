{
 "cells": [
  {
   "cell_type": "markdown",
   "id": "cb25a099",
   "metadata": {
    "papermill": {
     "duration": 0.006066,
     "end_time": "2024-11-24T07:34:45.776186",
     "exception": false,
     "start_time": "2024-11-24T07:34:45.770120",
     "status": "completed"
    },
    "tags": []
   },
   "source": [
    "**PIYUSH CHAUHAN B.TECH CSE 3RD YEAR**"
   ]
  },
  {
   "cell_type": "markdown",
   "id": "11b63fac",
   "metadata": {
    "papermill": {
     "duration": 0.005017,
     "end_time": "2024-11-24T07:34:45.787176",
     "exception": false,
     "start_time": "2024-11-24T07:34:45.782159",
     "status": "completed"
    },
    "tags": []
   },
   "source": [
    "# Objective: The objective of this program is to implement a Naïve Bayes classifier on the Breast Cancer dataset."
   ]
  },
  {
   "cell_type": "markdown",
   "id": "c1e8f983",
   "metadata": {
    "papermill": {
     "duration": 0.004966,
     "end_time": "2024-11-24T07:34:45.797476",
     "exception": false,
     "start_time": "2024-11-24T07:34:45.792510",
     "status": "completed"
    },
    "tags": []
   },
   "source": [
    "# Q1: Imports"
   ]
  },
  {
   "cell_type": "code",
   "execution_count": 1,
   "id": "3c416787",
   "metadata": {
    "execution": {
     "iopub.execute_input": "2024-11-24T07:34:45.809861Z",
     "iopub.status.busy": "2024-11-24T07:34:45.809387Z",
     "iopub.status.idle": "2024-11-24T07:34:48.034604Z",
     "shell.execute_reply": "2024-11-24T07:34:48.033354Z"
    },
    "papermill": {
     "duration": 2.234134,
     "end_time": "2024-11-24T07:34:48.037009",
     "exception": false,
     "start_time": "2024-11-24T07:34:45.802875",
     "status": "completed"
    },
    "tags": []
   },
   "outputs": [],
   "source": [
    "import pandas as pd\n",
    "from sklearn.model_selection import train_test_split\n",
    "from sklearn.naive_bayes import GaussianNB\n",
    "from sklearn.metrics import accuracy_score, precision_score, recall_score, confusion_matrix\n",
    "from sklearn.preprocessing import StandardScaler"
   ]
  },
  {
   "cell_type": "markdown",
   "id": "45b04048",
   "metadata": {
    "papermill": {
     "duration": 0.005287,
     "end_time": "2024-11-24T07:34:48.049007",
     "exception": false,
     "start_time": "2024-11-24T07:34:48.043720",
     "status": "completed"
    },
    "tags": []
   },
   "source": [
    "# Q2: Data Analysis"
   ]
  },
  {
   "cell_type": "markdown",
   "id": "45efd181",
   "metadata": {
    "papermill": {
     "duration": 0.00514,
     "end_time": "2024-11-24T07:34:48.059799",
     "exception": false,
     "start_time": "2024-11-24T07:34:48.054659",
     "status": "completed"
    },
    "tags": []
   },
   "source": [
    "**Load the dataset**"
   ]
  },
  {
   "cell_type": "code",
   "execution_count": 2,
   "id": "81988d5a",
   "metadata": {
    "execution": {
     "iopub.execute_input": "2024-11-24T07:34:48.072517Z",
     "iopub.status.busy": "2024-11-24T07:34:48.071646Z",
     "iopub.status.idle": "2024-11-24T07:34:48.098355Z",
     "shell.execute_reply": "2024-11-24T07:34:48.097192Z"
    },
    "papermill": {
     "duration": 0.035662,
     "end_time": "2024-11-24T07:34:48.100811",
     "exception": false,
     "start_time": "2024-11-24T07:34:48.065149",
     "status": "completed"
    },
    "tags": []
   },
   "outputs": [],
   "source": [
    "df= pd.read_csv('/kaggle/input/breast-cancer-dataset/breast-cancer.csv')"
   ]
  },
  {
   "cell_type": "code",
   "execution_count": 3,
   "id": "8edaf9cb",
   "metadata": {
    "execution": {
     "iopub.execute_input": "2024-11-24T07:34:48.113245Z",
     "iopub.status.busy": "2024-11-24T07:34:48.112848Z",
     "iopub.status.idle": "2024-11-24T07:34:48.137980Z",
     "shell.execute_reply": "2024-11-24T07:34:48.136762Z"
    },
    "papermill": {
     "duration": 0.034074,
     "end_time": "2024-11-24T07:34:48.140359",
     "exception": false,
     "start_time": "2024-11-24T07:34:48.106285",
     "status": "completed"
    },
    "tags": []
   },
   "outputs": [
    {
     "name": "stdout",
     "output_type": "stream",
     "text": [
      "First few rows of the dataframe:\n",
      "         id diagnosis  radius_mean  texture_mean  perimeter_mean  area_mean  \\\n",
      "0    842302         M        17.99         10.38          122.80     1001.0   \n",
      "1    842517         M        20.57         17.77          132.90     1326.0   \n",
      "2  84300903         M        19.69         21.25          130.00     1203.0   \n",
      "3  84348301         M        11.42         20.38           77.58      386.1   \n",
      "4  84358402         M        20.29         14.34          135.10     1297.0   \n",
      "\n",
      "   smoothness_mean  compactness_mean  concavity_mean  concave points_mean  \\\n",
      "0          0.11840           0.27760          0.3001              0.14710   \n",
      "1          0.08474           0.07864          0.0869              0.07017   \n",
      "2          0.10960           0.15990          0.1974              0.12790   \n",
      "3          0.14250           0.28390          0.2414              0.10520   \n",
      "4          0.10030           0.13280          0.1980              0.10430   \n",
      "\n",
      "   ...  radius_worst  texture_worst  perimeter_worst  area_worst  \\\n",
      "0  ...         25.38          17.33           184.60      2019.0   \n",
      "1  ...         24.99          23.41           158.80      1956.0   \n",
      "2  ...         23.57          25.53           152.50      1709.0   \n",
      "3  ...         14.91          26.50            98.87       567.7   \n",
      "4  ...         22.54          16.67           152.20      1575.0   \n",
      "\n",
      "   smoothness_worst  compactness_worst  concavity_worst  concave points_worst  \\\n",
      "0            0.1622             0.6656           0.7119                0.2654   \n",
      "1            0.1238             0.1866           0.2416                0.1860   \n",
      "2            0.1444             0.4245           0.4504                0.2430   \n",
      "3            0.2098             0.8663           0.6869                0.2575   \n",
      "4            0.1374             0.2050           0.4000                0.1625   \n",
      "\n",
      "   symmetry_worst  fractal_dimension_worst  \n",
      "0          0.4601                  0.11890  \n",
      "1          0.2750                  0.08902  \n",
      "2          0.3613                  0.08758  \n",
      "3          0.6638                  0.17300  \n",
      "4          0.2364                  0.07678  \n",
      "\n",
      "[5 rows x 32 columns]\n"
     ]
    }
   ],
   "source": [
    "# Display the first few rows of the dataset\n",
    "print(\"First few rows of the dataframe:\")\n",
    "print(df.head())"
   ]
  },
  {
   "cell_type": "code",
   "execution_count": 4,
   "id": "8f8c03ca",
   "metadata": {
    "execution": {
     "iopub.execute_input": "2024-11-24T07:34:48.153071Z",
     "iopub.status.busy": "2024-11-24T07:34:48.152678Z",
     "iopub.status.idle": "2024-11-24T07:34:48.163191Z",
     "shell.execute_reply": "2024-11-24T07:34:48.161958Z"
    },
    "papermill": {
     "duration": 0.019597,
     "end_time": "2024-11-24T07:34:48.165510",
     "exception": false,
     "start_time": "2024-11-24T07:34:48.145913",
     "status": "completed"
    },
    "tags": []
   },
   "outputs": [
    {
     "name": "stdout",
     "output_type": "stream",
     "text": [
      "\n",
      "Missing values in the dataset:\n",
      "id                         0\n",
      "diagnosis                  0\n",
      "radius_mean                0\n",
      "texture_mean               0\n",
      "perimeter_mean             0\n",
      "area_mean                  0\n",
      "smoothness_mean            0\n",
      "compactness_mean           0\n",
      "concavity_mean             0\n",
      "concave points_mean        0\n",
      "symmetry_mean              0\n",
      "fractal_dimension_mean     0\n",
      "radius_se                  0\n",
      "texture_se                 0\n",
      "perimeter_se               0\n",
      "area_se                    0\n",
      "smoothness_se              0\n",
      "compactness_se             0\n",
      "concavity_se               0\n",
      "concave points_se          0\n",
      "symmetry_se                0\n",
      "fractal_dimension_se       0\n",
      "radius_worst               0\n",
      "texture_worst              0\n",
      "perimeter_worst            0\n",
      "area_worst                 0\n",
      "smoothness_worst           0\n",
      "compactness_worst          0\n",
      "concavity_worst            0\n",
      "concave points_worst       0\n",
      "symmetry_worst             0\n",
      "fractal_dimension_worst    0\n",
      "dtype: int64\n"
     ]
    }
   ],
   "source": [
    "# Check for missing values\n",
    "print(\"\\nMissing values in the dataset:\")\n",
    "print(df.isnull().sum())"
   ]
  },
  {
   "cell_type": "code",
   "execution_count": 5,
   "id": "633160b2",
   "metadata": {
    "execution": {
     "iopub.execute_input": "2024-11-24T07:34:48.178177Z",
     "iopub.status.busy": "2024-11-24T07:34:48.177802Z",
     "iopub.status.idle": "2024-11-24T07:34:48.184106Z",
     "shell.execute_reply": "2024-11-24T07:34:48.183000Z"
    },
    "papermill": {
     "duration": 0.015259,
     "end_time": "2024-11-24T07:34:48.186245",
     "exception": false,
     "start_time": "2024-11-24T07:34:48.170986",
     "status": "completed"
    },
    "tags": []
   },
   "outputs": [],
   "source": [
    "# Drop rows with missing values\n",
    "df = df.dropna()"
   ]
  },
  {
   "cell_type": "code",
   "execution_count": 6,
   "id": "25c0ec64",
   "metadata": {
    "execution": {
     "iopub.execute_input": "2024-11-24T07:34:48.200157Z",
     "iopub.status.busy": "2024-11-24T07:34:48.199752Z",
     "iopub.status.idle": "2024-11-24T07:34:48.206468Z",
     "shell.execute_reply": "2024-11-24T07:34:48.205372Z"
    },
    "papermill": {
     "duration": 0.016211,
     "end_time": "2024-11-24T07:34:48.208532",
     "exception": false,
     "start_time": "2024-11-24T07:34:48.192321",
     "status": "completed"
    },
    "tags": []
   },
   "outputs": [],
   "source": [
    "# Replace 'diagnosis' with the actual label column from your dataset\n",
    "X = df.drop(columns=['diagnosis'])  \n",
    "y = df ['diagnosis']"
   ]
  },
  {
   "cell_type": "code",
   "execution_count": 7,
   "id": "9669f968",
   "metadata": {
    "execution": {
     "iopub.execute_input": "2024-11-24T07:34:48.221178Z",
     "iopub.status.busy": "2024-11-24T07:34:48.220818Z",
     "iopub.status.idle": "2024-11-24T07:34:48.386530Z",
     "shell.execute_reply": "2024-11-24T07:34:48.384853Z"
    },
    "papermill": {
     "duration": 0.175553,
     "end_time": "2024-11-24T07:34:48.389605",
     "exception": false,
     "start_time": "2024-11-24T07:34:48.214052",
     "status": "completed"
    },
    "tags": []
   },
   "outputs": [
    {
     "name": "stdout",
     "output_type": "stream",
     "text": [
      "\n",
      "Data Info:\n",
      "<class 'pandas.core.frame.DataFrame'>\n",
      "RangeIndex: 569 entries, 0 to 568\n",
      "Data columns (total 32 columns):\n",
      " #   Column                   Non-Null Count  Dtype  \n",
      "---  ------                   --------------  -----  \n",
      " 0   id                       569 non-null    int64  \n",
      " 1   diagnosis                569 non-null    object \n",
      " 2   radius_mean              569 non-null    float64\n",
      " 3   texture_mean             569 non-null    float64\n",
      " 4   perimeter_mean           569 non-null    float64\n",
      " 5   area_mean                569 non-null    float64\n",
      " 6   smoothness_mean          569 non-null    float64\n",
      " 7   compactness_mean         569 non-null    float64\n",
      " 8   concavity_mean           569 non-null    float64\n",
      " 9   concave points_mean      569 non-null    float64\n",
      " 10  symmetry_mean            569 non-null    float64\n",
      " 11  fractal_dimension_mean   569 non-null    float64\n",
      " 12  radius_se                569 non-null    float64\n",
      " 13  texture_se               569 non-null    float64\n",
      " 14  perimeter_se             569 non-null    float64\n",
      " 15  area_se                  569 non-null    float64\n",
      " 16  smoothness_se            569 non-null    float64\n",
      " 17  compactness_se           569 non-null    float64\n",
      " 18  concavity_se             569 non-null    float64\n",
      " 19  concave points_se        569 non-null    float64\n",
      " 20  symmetry_se              569 non-null    float64\n",
      " 21  fractal_dimension_se     569 non-null    float64\n",
      " 22  radius_worst             569 non-null    float64\n",
      " 23  texture_worst            569 non-null    float64\n",
      " 24  perimeter_worst          569 non-null    float64\n",
      " 25  area_worst               569 non-null    float64\n",
      " 26  smoothness_worst         569 non-null    float64\n",
      " 27  compactness_worst        569 non-null    float64\n",
      " 28  concavity_worst          569 non-null    float64\n",
      " 29  concave points_worst     569 non-null    float64\n",
      " 30  symmetry_worst           569 non-null    float64\n",
      " 31  fractal_dimension_worst  569 non-null    float64\n",
      "dtypes: float64(30), int64(1), object(1)\n",
      "memory usage: 142.4+ KB\n",
      "None\n",
      "\n",
      "Summary Statistics:\n",
      "                 id  radius_mean  texture_mean  perimeter_mean    area_mean  \\\n",
      "count  5.690000e+02   569.000000    569.000000      569.000000   569.000000   \n",
      "mean   3.037183e+07    14.127292     19.289649       91.969033   654.889104   \n",
      "std    1.250206e+08     3.524049      4.301036       24.298981   351.914129   \n",
      "min    8.670000e+03     6.981000      9.710000       43.790000   143.500000   \n",
      "25%    8.692180e+05    11.700000     16.170000       75.170000   420.300000   \n",
      "50%    9.060240e+05    13.370000     18.840000       86.240000   551.100000   \n",
      "75%    8.813129e+06    15.780000     21.800000      104.100000   782.700000   \n",
      "max    9.113205e+08    28.110000     39.280000      188.500000  2501.000000   \n",
      "\n",
      "       smoothness_mean  compactness_mean  concavity_mean  concave points_mean  \\\n",
      "count       569.000000        569.000000      569.000000           569.000000   \n",
      "mean          0.096360          0.104341        0.088799             0.048919   \n",
      "std           0.014064          0.052813        0.079720             0.038803   \n",
      "min           0.052630          0.019380        0.000000             0.000000   \n",
      "25%           0.086370          0.064920        0.029560             0.020310   \n",
      "50%           0.095870          0.092630        0.061540             0.033500   \n",
      "75%           0.105300          0.130400        0.130700             0.074000   \n",
      "max           0.163400          0.345400        0.426800             0.201200   \n",
      "\n",
      "       symmetry_mean  ...  radius_worst  texture_worst  perimeter_worst  \\\n",
      "count     569.000000  ...    569.000000     569.000000       569.000000   \n",
      "mean        0.181162  ...     16.269190      25.677223       107.261213   \n",
      "std         0.027414  ...      4.833242       6.146258        33.602542   \n",
      "min         0.106000  ...      7.930000      12.020000        50.410000   \n",
      "25%         0.161900  ...     13.010000      21.080000        84.110000   \n",
      "50%         0.179200  ...     14.970000      25.410000        97.660000   \n",
      "75%         0.195700  ...     18.790000      29.720000       125.400000   \n",
      "max         0.304000  ...     36.040000      49.540000       251.200000   \n",
      "\n",
      "        area_worst  smoothness_worst  compactness_worst  concavity_worst  \\\n",
      "count   569.000000        569.000000         569.000000       569.000000   \n",
      "mean    880.583128          0.132369           0.254265         0.272188   \n",
      "std     569.356993          0.022832           0.157336         0.208624   \n",
      "min     185.200000          0.071170           0.027290         0.000000   \n",
      "25%     515.300000          0.116600           0.147200         0.114500   \n",
      "50%     686.500000          0.131300           0.211900         0.226700   \n",
      "75%    1084.000000          0.146000           0.339100         0.382900   \n",
      "max    4254.000000          0.222600           1.058000         1.252000   \n",
      "\n",
      "       concave points_worst  symmetry_worst  fractal_dimension_worst  \n",
      "count            569.000000      569.000000               569.000000  \n",
      "mean               0.114606        0.290076                 0.083946  \n",
      "std                0.065732        0.061867                 0.018061  \n",
      "min                0.000000        0.156500                 0.055040  \n",
      "25%                0.064930        0.250400                 0.071460  \n",
      "50%                0.099930        0.282200                 0.080040  \n",
      "75%                0.161400        0.317900                 0.092080  \n",
      "max                0.291000        0.663800                 0.207500  \n",
      "\n",
      "[8 rows x 31 columns]\n"
     ]
    }
   ],
   "source": [
    "# Check the structure and summary statistics of the dataset\n",
    "print(\"\\nData Info:\")\n",
    "print(df.info())\n",
    "print(\"\\nSummary Statistics:\")\n",
    "print(df.describe())"
   ]
  },
  {
   "cell_type": "markdown",
   "id": "a476b121",
   "metadata": {
    "papermill": {
     "duration": 0.005666,
     "end_time": "2024-11-24T07:34:48.401252",
     "exception": false,
     "start_time": "2024-11-24T07:34:48.395586",
     "status": "completed"
    },
    "tags": []
   },
   "source": [
    "# Q3: Data Preprocessing"
   ]
  },
  {
   "cell_type": "markdown",
   "id": "7156a9be",
   "metadata": {
    "papermill": {
     "duration": 0.005809,
     "end_time": "2024-11-24T07:34:48.412940",
     "exception": false,
     "start_time": "2024-11-24T07:34:48.407131",
     "status": "completed"
    },
    "tags": []
   },
   "source": [
    "**Assign data and labels**"
   ]
  },
  {
   "cell_type": "code",
   "execution_count": 8,
   "id": "52328b7d",
   "metadata": {
    "execution": {
     "iopub.execute_input": "2024-11-24T07:34:48.426742Z",
     "iopub.status.busy": "2024-11-24T07:34:48.426311Z",
     "iopub.status.idle": "2024-11-24T07:34:48.433939Z",
     "shell.execute_reply": "2024-11-24T07:34:48.432741Z"
    },
    "papermill": {
     "duration": 0.016694,
     "end_time": "2024-11-24T07:34:48.436100",
     "exception": false,
     "start_time": "2024-11-24T07:34:48.419406",
     "status": "completed"
    },
    "tags": []
   },
   "outputs": [],
   "source": [
    "# Assuming 'diagnosis' is the target variable\n",
    "df['diagnosis'] = df['diagnosis'].map({'M': 1, 'B': 0})  # Convert 'M' to 1 and 'B' to 0\n",
    "X = df.drop(columns=['diagnosis'])\n",
    "y = df['diagnosis']"
   ]
  },
  {
   "cell_type": "markdown",
   "id": "e11979bb",
   "metadata": {
    "papermill": {
     "duration": 0.00564,
     "end_time": "2024-11-24T07:34:48.447632",
     "exception": false,
     "start_time": "2024-11-24T07:34:48.441992",
     "status": "completed"
    },
    "tags": []
   },
   "source": [
    "**Scaling Data**"
   ]
  },
  {
   "cell_type": "code",
   "execution_count": 9,
   "id": "a9b1bf82",
   "metadata": {
    "execution": {
     "iopub.execute_input": "2024-11-24T07:34:48.460605Z",
     "iopub.status.busy": "2024-11-24T07:34:48.460189Z",
     "iopub.status.idle": "2024-11-24T07:34:48.470341Z",
     "shell.execute_reply": "2024-11-24T07:34:48.469249Z"
    },
    "papermill": {
     "duration": 0.019306,
     "end_time": "2024-11-24T07:34:48.472592",
     "exception": false,
     "start_time": "2024-11-24T07:34:48.453286",
     "status": "completed"
    },
    "tags": []
   },
   "outputs": [],
   "source": [
    "# Scaling Data\n",
    "scaler = StandardScaler()\n",
    "X_scaled = scaler.fit_transform(X)"
   ]
  },
  {
   "cell_type": "markdown",
   "id": "a81723ce",
   "metadata": {
    "papermill": {
     "duration": 0.005606,
     "end_time": "2024-11-24T07:34:48.483888",
     "exception": false,
     "start_time": "2024-11-24T07:34:48.478282",
     "status": "completed"
    },
    "tags": []
   },
   "source": [
    "**Splitting Data**"
   ]
  },
  {
   "cell_type": "code",
   "execution_count": 10,
   "id": "b5459174",
   "metadata": {
    "execution": {
     "iopub.execute_input": "2024-11-24T07:34:48.497565Z",
     "iopub.status.busy": "2024-11-24T07:34:48.496814Z",
     "iopub.status.idle": "2024-11-24T07:34:48.504320Z",
     "shell.execute_reply": "2024-11-24T07:34:48.503457Z"
    },
    "papermill": {
     "duration": 0.016515,
     "end_time": "2024-11-24T07:34:48.506419",
     "exception": false,
     "start_time": "2024-11-24T07:34:48.489904",
     "status": "completed"
    },
    "tags": []
   },
   "outputs": [],
   "source": [
    "# Splitting Data\n",
    "X_train, X_test, y_train, y_test = train_test_split(X_scaled, y, test_size=0.2, random_state=42)"
   ]
  },
  {
   "cell_type": "markdown",
   "id": "425e2e1e",
   "metadata": {
    "papermill": {
     "duration": 0.006099,
     "end_time": "2024-11-24T07:34:48.518255",
     "exception": false,
     "start_time": "2024-11-24T07:34:48.512156",
     "status": "completed"
    },
    "tags": []
   },
   "source": [
    "# Q4: Model Implementation"
   ]
  },
  {
   "cell_type": "markdown",
   "id": "ba0348c8",
   "metadata": {
    "papermill": {
     "duration": 0.005979,
     "end_time": "2024-11-24T07:34:48.530852",
     "exception": false,
     "start_time": "2024-11-24T07:34:48.524873",
     "status": "completed"
    },
    "tags": []
   },
   "source": [
    "**Instantiate the Naïve Bayes classifier**"
   ]
  },
  {
   "cell_type": "code",
   "execution_count": 11,
   "id": "1404847f",
   "metadata": {
    "execution": {
     "iopub.execute_input": "2024-11-24T07:34:48.544113Z",
     "iopub.status.busy": "2024-11-24T07:34:48.543728Z",
     "iopub.status.idle": "2024-11-24T07:34:48.548384Z",
     "shell.execute_reply": "2024-11-24T07:34:48.547371Z"
    },
    "papermill": {
     "duration": 0.013836,
     "end_time": "2024-11-24T07:34:48.550544",
     "exception": false,
     "start_time": "2024-11-24T07:34:48.536708",
     "status": "completed"
    },
    "tags": []
   },
   "outputs": [],
   "source": [
    "model = GaussianNB()"
   ]
  },
  {
   "cell_type": "markdown",
   "id": "331b6735",
   "metadata": {
    "papermill": {
     "duration": 0.006303,
     "end_time": "2024-11-24T07:34:48.562356",
     "exception": false,
     "start_time": "2024-11-24T07:34:48.556053",
     "status": "completed"
    },
    "tags": []
   },
   "source": [
    "**Train the model**"
   ]
  },
  {
   "cell_type": "code",
   "execution_count": 12,
   "id": "09d07240",
   "metadata": {
    "execution": {
     "iopub.execute_input": "2024-11-24T07:34:48.576150Z",
     "iopub.status.busy": "2024-11-24T07:34:48.574949Z",
     "iopub.status.idle": "2024-11-24T07:34:48.589046Z",
     "shell.execute_reply": "2024-11-24T07:34:48.587959Z"
    },
    "papermill": {
     "duration": 0.023428,
     "end_time": "2024-11-24T07:34:48.591558",
     "exception": false,
     "start_time": "2024-11-24T07:34:48.568130",
     "status": "completed"
    },
    "tags": []
   },
   "outputs": [
    {
     "data": {
      "text/html": [
       "<style>#sk-container-id-1 {color: black;background-color: white;}#sk-container-id-1 pre{padding: 0;}#sk-container-id-1 div.sk-toggleable {background-color: white;}#sk-container-id-1 label.sk-toggleable__label {cursor: pointer;display: block;width: 100%;margin-bottom: 0;padding: 0.3em;box-sizing: border-box;text-align: center;}#sk-container-id-1 label.sk-toggleable__label-arrow:before {content: \"▸\";float: left;margin-right: 0.25em;color: #696969;}#sk-container-id-1 label.sk-toggleable__label-arrow:hover:before {color: black;}#sk-container-id-1 div.sk-estimator:hover label.sk-toggleable__label-arrow:before {color: black;}#sk-container-id-1 div.sk-toggleable__content {max-height: 0;max-width: 0;overflow: hidden;text-align: left;background-color: #f0f8ff;}#sk-container-id-1 div.sk-toggleable__content pre {margin: 0.2em;color: black;border-radius: 0.25em;background-color: #f0f8ff;}#sk-container-id-1 input.sk-toggleable__control:checked~div.sk-toggleable__content {max-height: 200px;max-width: 100%;overflow: auto;}#sk-container-id-1 input.sk-toggleable__control:checked~label.sk-toggleable__label-arrow:before {content: \"▾\";}#sk-container-id-1 div.sk-estimator input.sk-toggleable__control:checked~label.sk-toggleable__label {background-color: #d4ebff;}#sk-container-id-1 div.sk-label input.sk-toggleable__control:checked~label.sk-toggleable__label {background-color: #d4ebff;}#sk-container-id-1 input.sk-hidden--visually {border: 0;clip: rect(1px 1px 1px 1px);clip: rect(1px, 1px, 1px, 1px);height: 1px;margin: -1px;overflow: hidden;padding: 0;position: absolute;width: 1px;}#sk-container-id-1 div.sk-estimator {font-family: monospace;background-color: #f0f8ff;border: 1px dotted black;border-radius: 0.25em;box-sizing: border-box;margin-bottom: 0.5em;}#sk-container-id-1 div.sk-estimator:hover {background-color: #d4ebff;}#sk-container-id-1 div.sk-parallel-item::after {content: \"\";width: 100%;border-bottom: 1px solid gray;flex-grow: 1;}#sk-container-id-1 div.sk-label:hover label.sk-toggleable__label {background-color: #d4ebff;}#sk-container-id-1 div.sk-serial::before {content: \"\";position: absolute;border-left: 1px solid gray;box-sizing: border-box;top: 0;bottom: 0;left: 50%;z-index: 0;}#sk-container-id-1 div.sk-serial {display: flex;flex-direction: column;align-items: center;background-color: white;padding-right: 0.2em;padding-left: 0.2em;position: relative;}#sk-container-id-1 div.sk-item {position: relative;z-index: 1;}#sk-container-id-1 div.sk-parallel {display: flex;align-items: stretch;justify-content: center;background-color: white;position: relative;}#sk-container-id-1 div.sk-item::before, #sk-container-id-1 div.sk-parallel-item::before {content: \"\";position: absolute;border-left: 1px solid gray;box-sizing: border-box;top: 0;bottom: 0;left: 50%;z-index: -1;}#sk-container-id-1 div.sk-parallel-item {display: flex;flex-direction: column;z-index: 1;position: relative;background-color: white;}#sk-container-id-1 div.sk-parallel-item:first-child::after {align-self: flex-end;width: 50%;}#sk-container-id-1 div.sk-parallel-item:last-child::after {align-self: flex-start;width: 50%;}#sk-container-id-1 div.sk-parallel-item:only-child::after {width: 0;}#sk-container-id-1 div.sk-dashed-wrapped {border: 1px dashed gray;margin: 0 0.4em 0.5em 0.4em;box-sizing: border-box;padding-bottom: 0.4em;background-color: white;}#sk-container-id-1 div.sk-label label {font-family: monospace;font-weight: bold;display: inline-block;line-height: 1.2em;}#sk-container-id-1 div.sk-label-container {text-align: center;}#sk-container-id-1 div.sk-container {/* jupyter's `normalize.less` sets `[hidden] { display: none; }` but bootstrap.min.css set `[hidden] { display: none !important; }` so we also need the `!important` here to be able to override the default hidden behavior on the sphinx rendered scikit-learn.org. See: https://github.com/scikit-learn/scikit-learn/issues/21755 */display: inline-block !important;position: relative;}#sk-container-id-1 div.sk-text-repr-fallback {display: none;}</style><div id=\"sk-container-id-1\" class=\"sk-top-container\"><div class=\"sk-text-repr-fallback\"><pre>GaussianNB()</pre><b>In a Jupyter environment, please rerun this cell to show the HTML representation or trust the notebook. <br />On GitHub, the HTML representation is unable to render, please try loading this page with nbviewer.org.</b></div><div class=\"sk-container\" hidden><div class=\"sk-item\"><div class=\"sk-estimator sk-toggleable\"><input class=\"sk-toggleable__control sk-hidden--visually\" id=\"sk-estimator-id-1\" type=\"checkbox\" checked><label for=\"sk-estimator-id-1\" class=\"sk-toggleable__label sk-toggleable__label-arrow\">GaussianNB</label><div class=\"sk-toggleable__content\"><pre>GaussianNB()</pre></div></div></div></div></div>"
      ],
      "text/plain": [
       "GaussianNB()"
      ]
     },
     "execution_count": 12,
     "metadata": {},
     "output_type": "execute_result"
    }
   ],
   "source": [
    "model.fit(X_train, y_train)"
   ]
  },
  {
   "cell_type": "markdown",
   "id": "d84356fb",
   "metadata": {
    "papermill": {
     "duration": 0.005655,
     "end_time": "2024-11-24T07:34:48.603253",
     "exception": false,
     "start_time": "2024-11-24T07:34:48.597598",
     "status": "completed"
    },
    "tags": []
   },
   "source": [
    "**Prediction on the set test**"
   ]
  },
  {
   "cell_type": "code",
   "execution_count": 13,
   "id": "c8db5d0f",
   "metadata": {
    "execution": {
     "iopub.execute_input": "2024-11-24T07:34:48.616640Z",
     "iopub.status.busy": "2024-11-24T07:34:48.616231Z",
     "iopub.status.idle": "2024-11-24T07:34:48.621753Z",
     "shell.execute_reply": "2024-11-24T07:34:48.620405Z"
    },
    "papermill": {
     "duration": 0.014659,
     "end_time": "2024-11-24T07:34:48.623882",
     "exception": false,
     "start_time": "2024-11-24T07:34:48.609223",
     "status": "completed"
    },
    "tags": []
   },
   "outputs": [],
   "source": [
    "# Make predictions on the test set\n",
    "y_pred = model.predict(X_test)"
   ]
  },
  {
   "cell_type": "markdown",
   "id": "d86122b2",
   "metadata": {
    "papermill": {
     "duration": 0.005654,
     "end_time": "2024-11-24T07:34:48.635442",
     "exception": false,
     "start_time": "2024-11-24T07:34:48.629788",
     "status": "completed"
    },
    "tags": []
   },
   "source": [
    "# Q5: Calculate the accuracy, precision, and recall"
   ]
  },
  {
   "cell_type": "markdown",
   "id": "8fa736e8",
   "metadata": {
    "papermill": {
     "duration": 0.00558,
     "end_time": "2024-11-24T07:34:48.647067",
     "exception": false,
     "start_time": "2024-11-24T07:34:48.641487",
     "status": "completed"
    },
    "tags": []
   },
   "source": [
    "**Use average='macro' to handle multiple classes**"
   ]
  },
  {
   "cell_type": "code",
   "execution_count": 14,
   "id": "69238ee1",
   "metadata": {
    "execution": {
     "iopub.execute_input": "2024-11-24T07:34:48.660475Z",
     "iopub.status.busy": "2024-11-24T07:34:48.660069Z",
     "iopub.status.idle": "2024-11-24T07:34:48.672801Z",
     "shell.execute_reply": "2024-11-24T07:34:48.671658Z"
    },
    "papermill": {
     "duration": 0.022131,
     "end_time": "2024-11-24T07:34:48.675040",
     "exception": false,
     "start_time": "2024-11-24T07:34:48.652909",
     "status": "completed"
    },
    "tags": []
   },
   "outputs": [],
   "source": [
    "# Use average='macro' to handle multiple classes\n",
    "accuracy = accuracy_score(y_test, y_pred)\n",
    "precision = precision_score(y_test, y_pred, average='macro')  # 'macro' considers all classes equally\n",
    "recall = recall_score(y_test, y_pred, average='macro')\n"
   ]
  },
  {
   "cell_type": "markdown",
   "id": "47aa615c",
   "metadata": {
    "papermill": {
     "duration": 0.00554,
     "end_time": "2024-11-24T07:34:48.686756",
     "exception": false,
     "start_time": "2024-11-24T07:34:48.681216",
     "status": "completed"
    },
    "tags": []
   },
   "source": [
    "**Display the results**"
   ]
  },
  {
   "cell_type": "code",
   "execution_count": 15,
   "id": "26c12c6f",
   "metadata": {
    "execution": {
     "iopub.execute_input": "2024-11-24T07:34:48.699940Z",
     "iopub.status.busy": "2024-11-24T07:34:48.699473Z",
     "iopub.status.idle": "2024-11-24T07:34:48.705814Z",
     "shell.execute_reply": "2024-11-24T07:34:48.704537Z"
    },
    "papermill": {
     "duration": 0.015419,
     "end_time": "2024-11-24T07:34:48.707898",
     "exception": false,
     "start_time": "2024-11-24T07:34:48.692479",
     "status": "completed"
    },
    "tags": []
   },
   "outputs": [
    {
     "name": "stdout",
     "output_type": "stream",
     "text": [
      "Accuracy: 96.49%\n",
      "Precision: 96.73%\n",
      "Recall: 95.81%\n"
     ]
    }
   ],
   "source": [
    "# Display the results\n",
    "print(f\"Accuracy: {accuracy * 100:.2f}%\")\n",
    "print(f\"Precision: {precision * 100:.2f}%\")\n",
    "print(f\"Recall: {recall * 100:.2f}%\")"
   ]
  }
 ],
 "metadata": {
  "kaggle": {
   "accelerator": "none",
   "dataSources": [
    {
     "datasetId": 6141676,
     "sourceId": 9980987,
     "sourceType": "datasetVersion"
    }
   ],
   "dockerImageVersionId": 30786,
   "isGpuEnabled": false,
   "isInternetEnabled": true,
   "language": "python",
   "sourceType": "notebook"
  },
  "kernelspec": {
   "display_name": "Python 3",
   "language": "python",
   "name": "python3"
  },
  "language_info": {
   "codemirror_mode": {
    "name": "ipython",
    "version": 3
   },
   "file_extension": ".py",
   "mimetype": "text/x-python",
   "name": "python",
   "nbconvert_exporter": "python",
   "pygments_lexer": "ipython3",
   "version": "3.10.14"
  },
  "papermill": {
   "default_parameters": {},
   "duration": 6.259488,
   "end_time": "2024-11-24T07:34:49.337089",
   "environment_variables": {},
   "exception": null,
   "input_path": "__notebook__.ipynb",
   "output_path": "__notebook__.ipynb",
   "parameters": {},
   "start_time": "2024-11-24T07:34:43.077601",
   "version": "2.6.0"
  }
 },
 "nbformat": 4,
 "nbformat_minor": 5
}
